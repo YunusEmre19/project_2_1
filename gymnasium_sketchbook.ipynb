{
 "cells": [
  {
   "cell_type": "code",
   "execution_count": 5,
   "metadata": {},
   "outputs": [],
   "source": [
    "import gymnasium as gym\n",
    "from grid_world import GridWorldEnv\n",
    "from button_puzzle_env import ButtonPuzzleEnv"
   ]
  },
  {
   "cell_type": "code",
   "execution_count": 6,
   "metadata": {},
   "outputs": [
    {
     "name": "stdout",
     "output_type": "stream",
     "text": [
      "[[1. 1. 1. 1. 1. 1. 1.]\n",
      " [1. 0. 0. 0. 0. 0. 1.]\n",
      " [1. 0. 2. 0. 0. 0. 1.]\n",
      " [1. 0. 0. 0. 5. 2. 1.]\n",
      " [1. 0. 0. 0. 2. 0. 1.]\n",
      " [1. 0. 0. 3. 0. 4. 1.]\n",
      " [1. 1. 1. 1. 1. 1. 1.]]\n",
      "[[1. 1. 1. 1. 1. 1. 1.]\n",
      " [1. 0. 0. 0. 0. 0. 1.]\n",
      " [1. 0. 2. 0. 0. 0. 1.]\n",
      " [1. 0. 0. 0. 5. 2. 1.]\n",
      " [1. 0. 0. 0. 2. 0. 1.]\n",
      " [1. 0. 0. 3. 0. 4. 1.]\n",
      " [1. 1. 1. 1. 1. 1. 1.]]\n",
      "[[1. 1. 1. 1. 1. 1. 1.]\n",
      " [1. 0. 0. 0. 0. 0. 1.]\n",
      " [1. 0. 2. 0. 0. 0. 1.]\n",
      " [1. 0. 0. 0. 5. 2. 1.]\n",
      " [1. 0. 0. 2. 2. 0. 1.]\n",
      " [1. 0. 0. 3. 0. 4. 1.]\n",
      " [1. 1. 1. 1. 1. 1. 1.]]\n",
      "[[1. 1. 1. 1. 1. 1. 1.]\n",
      " [1. 0. 0. 0. 0. 0. 1.]\n",
      " [1. 0. 2. 0. 0. 0. 1.]\n",
      " [1. 0. 0. 2. 5. 2. 1.]\n",
      " [1. 0. 0. 0. 2. 0. 1.]\n",
      " [1. 0. 0. 3. 0. 4. 1.]\n",
      " [1. 1. 1. 1. 1. 1. 1.]]\n",
      "[[1. 1. 1. 1. 1. 1. 1.]\n",
      " [1. 0. 0. 0. 0. 0. 1.]\n",
      " [1. 0. 2. 0. 0. 0. 1.]\n",
      " [1. 0. 0. 0. 5. 2. 1.]\n",
      " [1. 0. 0. 2. 2. 0. 1.]\n",
      " [1. 0. 0. 3. 0. 4. 1.]\n",
      " [1. 1. 1. 1. 1. 1. 1.]]\n",
      "[[1. 1. 1. 1. 1. 1. 1.]\n",
      " [1. 0. 0. 0. 0. 0. 1.]\n",
      " [1. 0. 2. 0. 0. 0. 1.]\n",
      " [1. 0. 0. 0. 5. 2. 1.]\n",
      " [1. 0. 2. 0. 2. 0. 1.]\n",
      " [1. 0. 0. 3. 0. 4. 1.]\n",
      " [1. 1. 1. 1. 1. 1. 1.]]\n",
      "[[1. 1. 1. 1. 1. 1. 1.]\n",
      " [1. 0. 0. 0. 0. 0. 1.]\n",
      " [1. 0. 2. 0. 0. 0. 1.]\n",
      " [1. 0. 0. 0. 5. 2. 1.]\n",
      " [1. 2. 0. 0. 2. 0. 1.]\n",
      " [1. 0. 0. 3. 0. 4. 1.]\n",
      " [1. 1. 1. 1. 1. 1. 1.]]\n",
      "[[1. 1. 1. 1. 1. 1. 1.]\n",
      " [1. 0. 0. 0. 0. 0. 1.]\n",
      " [1. 0. 2. 0. 0. 0. 1.]\n",
      " [1. 2. 0. 0. 5. 2. 1.]\n",
      " [1. 0. 0. 0. 2. 0. 1.]\n",
      " [1. 0. 0. 3. 0. 4. 1.]\n",
      " [1. 1. 1. 1. 1. 1. 1.]]\n",
      "[[1. 1. 1. 1. 1. 1. 1.]\n",
      " [1. 0. 0. 0. 0. 0. 1.]\n",
      " [1. 2. 2. 0. 0. 0. 1.]\n",
      " [1. 0. 0. 0. 5. 2. 1.]\n",
      " [1. 0. 0. 0. 2. 0. 1.]\n",
      " [1. 0. 0. 3. 0. 4. 1.]\n",
      " [1. 1. 1. 1. 1. 1. 1.]]\n",
      "[[1. 1. 1. 1. 1. 1. 1.]\n",
      " [1. 2. 0. 0. 0. 0. 1.]\n",
      " [1. 0. 2. 0. 0. 0. 1.]\n",
      " [1. 0. 0. 0. 5. 2. 1.]\n",
      " [1. 0. 0. 0. 2. 0. 1.]\n",
      " [1. 0. 0. 3. 0. 4. 1.]\n",
      " [1. 1. 1. 1. 1. 1. 1.]]\n",
      "[[1. 1. 1. 1. 1. 1. 1.]\n",
      " [1. 0. 2. 0. 0. 0. 1.]\n",
      " [1. 0. 2. 0. 0. 0. 1.]\n",
      " [1. 0. 0. 0. 5. 2. 1.]\n",
      " [1. 0. 0. 0. 2. 0. 1.]\n",
      " [1. 0. 0. 3. 0. 4. 1.]\n",
      " [1. 1. 1. 1. 1. 1. 1.]]\n",
      "[[1. 1. 1. 1. 1. 1. 1.]\n",
      " [1. 0. 0. 2. 0. 0. 1.]\n",
      " [1. 0. 2. 0. 0. 0. 1.]\n",
      " [1. 0. 0. 0. 5. 2. 1.]\n",
      " [1. 0. 0. 0. 2. 0. 1.]\n",
      " [1. 0. 0. 3. 0. 4. 1.]\n",
      " [1. 1. 1. 1. 1. 1. 1.]]\n",
      "[[1. 1. 1. 1. 1. 1. 1.]\n",
      " [1. 0. 2. 0. 0. 0. 1.]\n",
      " [1. 0. 2. 0. 0. 0. 1.]\n",
      " [1. 0. 0. 0. 5. 2. 1.]\n",
      " [1. 0. 0. 0. 2. 0. 1.]\n",
      " [1. 0. 0. 3. 0. 4. 1.]\n",
      " [1. 1. 1. 1. 1. 1. 1.]]\n",
      "[[1. 1. 1. 1. 1. 1. 1.]\n",
      " [1. 0. 2. 0. 0. 0. 1.]\n",
      " [1. 0. 2. 0. 0. 0. 1.]\n",
      " [1. 0. 0. 0. 5. 2. 1.]\n",
      " [1. 0. 0. 0. 2. 0. 1.]\n",
      " [1. 0. 0. 3. 0. 4. 1.]\n",
      " [1. 1. 1. 1. 1. 1. 1.]]\n",
      "[[1. 1. 1. 1. 1. 1. 1.]\n",
      " [1. 0. 2. 0. 0. 0. 1.]\n",
      " [1. 0. 2. 0. 0. 0. 1.]\n",
      " [1. 0. 0. 0. 5. 2. 1.]\n",
      " [1. 0. 0. 0. 2. 0. 1.]\n",
      " [1. 0. 0. 3. 0. 4. 1.]\n",
      " [1. 1. 1. 1. 1. 1. 1.]]\n",
      "[[1. 1. 1. 1. 1. 1. 1.]\n",
      " [1. 2. 0. 0. 0. 0. 1.]\n",
      " [1. 0. 2. 0. 0. 0. 1.]\n",
      " [1. 0. 0. 0. 5. 2. 1.]\n",
      " [1. 0. 0. 0. 2. 0. 1.]\n",
      " [1. 0. 0. 3. 0. 4. 1.]\n",
      " [1. 1. 1. 1. 1. 1. 1.]]\n",
      "[[1. 1. 1. 1. 1. 1. 1.]\n",
      " [1. 2. 0. 0. 0. 0. 1.]\n",
      " [1. 0. 2. 0. 0. 0. 1.]\n",
      " [1. 0. 0. 0. 5. 2. 1.]\n",
      " [1. 0. 0. 0. 2. 0. 1.]\n",
      " [1. 0. 0. 3. 0. 4. 1.]\n",
      " [1. 1. 1. 1. 1. 1. 1.]]\n",
      "[[1. 1. 1. 1. 1. 1. 1.]\n",
      " [1. 2. 0. 0. 0. 0. 1.]\n",
      " [1. 0. 2. 0. 0. 0. 1.]\n",
      " [1. 0. 0. 0. 5. 2. 1.]\n",
      " [1. 0. 0. 0. 2. 0. 1.]\n",
      " [1. 0. 0. 3. 0. 4. 1.]\n",
      " [1. 1. 1. 1. 1. 1. 1.]]\n",
      "[[1. 1. 1. 1. 1. 1. 1.]\n",
      " [1. 0. 0. 0. 0. 0. 1.]\n",
      " [1. 2. 2. 0. 0. 0. 1.]\n",
      " [1. 0. 0. 0. 5. 2. 1.]\n",
      " [1. 0. 0. 0. 2. 0. 1.]\n",
      " [1. 0. 0. 3. 0. 4. 1.]\n",
      " [1. 1. 1. 1. 1. 1. 1.]]\n",
      "[[1. 1. 1. 1. 1. 1. 1.]\n",
      " [1. 2. 0. 0. 0. 0. 1.]\n",
      " [1. 0. 2. 0. 0. 0. 1.]\n",
      " [1. 0. 0. 0. 5. 2. 1.]\n",
      " [1. 0. 0. 0. 2. 0. 1.]\n",
      " [1. 0. 0. 3. 0. 4. 1.]\n",
      " [1. 1. 1. 1. 1. 1. 1.]]\n",
      "[[1. 1. 1. 1. 1. 1. 1.]\n",
      " [1. 0. 0. 0. 0. 0. 1.]\n",
      " [1. 2. 2. 0. 0. 0. 1.]\n",
      " [1. 0. 0. 0. 5. 2. 1.]\n",
      " [1. 0. 0. 0. 2. 0. 1.]\n",
      " [1. 0. 0. 3. 0. 4. 1.]\n",
      " [1. 1. 1. 1. 1. 1. 1.]]\n"
     ]
    },
    {
     "ename": "KeyboardInterrupt",
     "evalue": "",
     "output_type": "error",
     "traceback": [
      "\u001b[1;31m---------------------------------------------------------------------------\u001b[0m",
      "\u001b[1;31mKeyboardInterrupt\u001b[0m                         Traceback (most recent call last)",
      "Cell \u001b[1;32mIn[6], line 12\u001b[0m\n\u001b[0;32m     10\u001b[0m os\u001b[39m.\u001b[39msystem(\u001b[39m\"\u001b[39m\u001b[39mcls\u001b[39m\u001b[39m\"\u001b[39m)\n\u001b[0;32m     11\u001b[0m \u001b[39mprint\u001b[39m(observation)\n\u001b[1;32m---> 12\u001b[0m time\u001b[39m.\u001b[39msleep(\u001b[39m1\u001b[39m)\n\u001b[0;32m     14\u001b[0m \u001b[39mif\u001b[39;00m terminated \u001b[39mor\u001b[39;00m truncated:\n\u001b[0;32m     15\u001b[0m     observation, info \u001b[39m=\u001b[39m env\u001b[39m.\u001b[39mreset()\n",
      "\u001b[1;31mKeyboardInterrupt\u001b[0m: "
     ]
    }
   ],
   "source": [
    "import gymnasium as gym\n",
    "from button_puzzle_env import ButtonPuzzleEnv\n",
    "import os\n",
    "import time\n",
    "env = ButtonPuzzleEnv(render_mode=\"human\")\n",
    "observation, info = env.reset()\n",
    "for i in range(30):\n",
    "\n",
    "    action = env.action_space.sample()\n",
    "    observation, reward, terminated, truncated, info = env.step(action)\n",
    "\n",
    "    os.system(\"cls\")\n",
    "    print(observation)\n",
    "    time.sleep(1)\n",
    "\n",
    "    if terminated or truncated:\n",
    "        observation, info = env.reset()\n",
    "\n",
    "env.close()"
   ]
  },
  {
   "cell_type": "code",
   "execution_count": 11,
   "metadata": {},
   "outputs": [
    {
     "data": {
      "text/plain": [
       "dict_keys(['CartPole-v0', 'CartPole-v1', 'MountainCar-v0', 'MountainCarContinuous-v0', 'Pendulum-v1', 'Acrobot-v1', 'CartPoleJax-v0', 'CartPoleJax-v1', 'PendulumJax-v0', 'LunarLander-v2', 'LunarLanderContinuous-v2', 'BipedalWalker-v3', 'BipedalWalkerHardcore-v3', 'CarRacing-v2', 'Blackjack-v1', 'FrozenLake-v1', 'FrozenLake8x8-v1', 'CliffWalking-v0', 'Taxi-v3', 'Reacher-v2', 'Reacher-v4', 'Pusher-v2', 'Pusher-v4', 'InvertedPendulum-v2', 'InvertedPendulum-v4', 'InvertedDoublePendulum-v2', 'InvertedDoublePendulum-v4', 'HalfCheetah-v2', 'HalfCheetah-v3', 'HalfCheetah-v4', 'Hopper-v2', 'Hopper-v3', 'Hopper-v4', 'Swimmer-v2', 'Swimmer-v3', 'Swimmer-v4', 'Walker2d-v2', 'Walker2d-v3', 'Walker2d-v4', 'Ant-v2', 'Ant-v3', 'Ant-v4', 'Humanoid-v2', 'Humanoid-v3', 'Humanoid-v4', 'HumanoidStandup-v2', 'HumanoidStandup-v4', 'GymV22Environment-v0', 'GymV26Environment-v0'])"
      ]
     },
     "execution_count": 11,
     "metadata": {},
     "output_type": "execute_result"
    }
   ],
   "source": [
    "gym.envs.registry.keys()"
   ]
  },
  {
   "cell_type": "code",
   "execution_count": 21,
   "metadata": {},
   "outputs": [
    {
     "ename": "TypeError",
     "evalue": "expected string or bytes-like object, got 'function'",
     "output_type": "error",
     "traceback": [
      "\u001b[1;31m---------------------------------------------------------------------------\u001b[0m",
      "\u001b[1;31mTypeError\u001b[0m                                 Traceback (most recent call last)",
      "Cell \u001b[1;32mIn[21], line 1\u001b[0m\n\u001b[1;32m----> 1\u001b[0m gym\u001b[39m.\u001b[39;49mpprint_registry()\n",
      "File \u001b[1;32mc:\\Users\\cu\\AppData\\Local\\Programs\\Python\\Python311\\Lib\\site-packages\\gymnasium\\envs\\registration.py:730\u001b[0m, in \u001b[0;36mpprint_registry\u001b[1;34m(_registry, num_cols, exclude_namespaces, disable_print)\u001b[0m\n\u001b[0;32m    727\u001b[0m namespace, _, _ \u001b[39m=\u001b[39m parse_env_id(env\u001b[39m.\u001b[39mid)\n\u001b[0;32m    728\u001b[0m \u001b[39mif\u001b[39;00m namespace \u001b[39mis\u001b[39;00m \u001b[39mNone\u001b[39;00m:\n\u001b[0;32m    729\u001b[0m     \u001b[39m# Since namespace is currently none, use regex to obtain namespace from entrypoints.\u001b[39;00m\n\u001b[1;32m--> 730\u001b[0m     env_entry_point \u001b[39m=\u001b[39m re\u001b[39m.\u001b[39;49msub(\u001b[39mr\u001b[39;49m\u001b[39m\"\u001b[39;49m\u001b[39m:\u001b[39;49m\u001b[39m\\\u001b[39;49m\u001b[39mw+\u001b[39;49m\u001b[39m\"\u001b[39;49m, \u001b[39m\"\u001b[39;49m\u001b[39m\"\u001b[39;49m, env\u001b[39m.\u001b[39;49mentry_point)\n\u001b[0;32m    731\u001b[0m     e_ep_split \u001b[39m=\u001b[39m env_entry_point\u001b[39m.\u001b[39msplit(\u001b[39m\"\u001b[39m\u001b[39m.\u001b[39m\u001b[39m\"\u001b[39m)\n\u001b[0;32m    732\u001b[0m     \u001b[39mif\u001b[39;00m \u001b[39mlen\u001b[39m(e_ep_split) \u001b[39m>\u001b[39m\u001b[39m=\u001b[39m \u001b[39m3\u001b[39m:\n\u001b[0;32m    733\u001b[0m         \u001b[39m# If namespace is of the format - gymnasium.envs.mujoco.ant_v4:AntEnv\u001b[39;00m\n\u001b[0;32m    734\u001b[0m         \u001b[39m# or gymnasium.envs.mujoco:HumanoidEnv\u001b[39;00m\n",
      "File \u001b[1;32mc:\\Users\\cu\\AppData\\Local\\Programs\\Python\\Python311\\Lib\\re\\__init__.py:185\u001b[0m, in \u001b[0;36msub\u001b[1;34m(pattern, repl, string, count, flags)\u001b[0m\n\u001b[0;32m    178\u001b[0m \u001b[39mdef\u001b[39;00m \u001b[39msub\u001b[39m(pattern, repl, string, count\u001b[39m=\u001b[39m\u001b[39m0\u001b[39m, flags\u001b[39m=\u001b[39m\u001b[39m0\u001b[39m):\n\u001b[0;32m    179\u001b[0m \u001b[39m    \u001b[39m\u001b[39m\"\"\"Return the string obtained by replacing the leftmost\u001b[39;00m\n\u001b[0;32m    180\u001b[0m \u001b[39m    non-overlapping occurrences of the pattern in string by the\u001b[39;00m\n\u001b[0;32m    181\u001b[0m \u001b[39m    replacement repl.  repl can be either a string or a callable;\u001b[39;00m\n\u001b[0;32m    182\u001b[0m \u001b[39m    if a string, backslash escapes in it are processed.  If it is\u001b[39;00m\n\u001b[0;32m    183\u001b[0m \u001b[39m    a callable, it's passed the Match object and must return\u001b[39;00m\n\u001b[0;32m    184\u001b[0m \u001b[39m    a replacement string to be used.\"\"\"\u001b[39;00m\n\u001b[1;32m--> 185\u001b[0m     \u001b[39mreturn\u001b[39;00m _compile(pattern, flags)\u001b[39m.\u001b[39;49msub(repl, string, count)\n",
      "\u001b[1;31mTypeError\u001b[0m: expected string or bytes-like object, got 'function'"
     ]
    }
   ],
   "source": [
    "gym.pprint_registry()"
   ]
  },
  {
   "cell_type": "code",
   "execution_count": 27,
   "metadata": {},
   "outputs": [
    {
     "data": {
      "text/plain": [
       "EnvSpec(id='MountainCar-v0', entry_point='gymnasium.envs.classic_control.mountain_car:MountainCarEnv', reward_threshold=-110.0, nondeterministic=False, max_episode_steps=200, order_enforce=True, autoreset=False, disable_env_checker=False, apply_api_compatibility=False, kwargs={}, namespace=None, name='MountainCar', version=0)"
      ]
     },
     "execution_count": 27,
     "metadata": {},
     "output_type": "execute_result"
    }
   ],
   "source": [
    "gym.spec(\"MountainCar-v0\")"
   ]
  },
  {
   "attachments": {},
   "cell_type": "markdown",
   "metadata": {},
   "source": [
    "Spaces"
   ]
  },
  {
   "cell_type": "code",
   "execution_count": 54,
   "metadata": {},
   "outputs": [
    {
     "data": {
      "text/plain": [
       "[12949314974210334287115134089636752408]"
      ]
     },
     "execution_count": 54,
     "metadata": {},
     "output_type": "execute_result"
    }
   ],
   "source": [
    "my_space = gym.spaces.Box(0,5,(5,5))"
   ]
  },
  {
   "cell_type": "code",
   "execution_count": 95,
   "metadata": {},
   "outputs": [
    {
     "data": {
      "text/plain": [
       "array([1, 0, 1, 0, 1], dtype=int8)"
      ]
     },
     "execution_count": 95,
     "metadata": {},
     "output_type": "execute_result"
    }
   ],
   "source": [
    "multi_binary = gym.spaces.MultiBinary(5,seed=42)\n",
    "multi_binary.sample()"
   ]
  },
  {
   "cell_type": "code",
   "execution_count": 213,
   "metadata": {},
   "outputs": [
    {
     "data": {
      "text/plain": [
       "'btPd'"
      ]
     },
     "execution_count": 213,
     "metadata": {},
     "output_type": "execute_result"
    }
   ],
   "source": [
    "text = gym.spaces.Text(5)\n",
    "text.sample()"
   ]
  },
  {
   "cell_type": "code",
   "execution_count": 2,
   "metadata": {},
   "outputs": [],
   "source": [
    "space = gym.spaces.Sequence(gym.spaces.Box(0, 1), seed=42)"
   ]
  },
  {
   "cell_type": "code",
   "execution_count": 7,
   "metadata": {},
   "outputs": [
    {
     "data": {
      "text/plain": [
       "(array([0.45038593], dtype=float32),\n",
       " array([0.37079802], dtype=float32),\n",
       " array([0.92676497], dtype=float32),\n",
       " array([0.6438651], dtype=float32),\n",
       " array([0.8227616], dtype=float32),\n",
       " array([0.4434142], dtype=float32),\n",
       " array([0.22723871], dtype=float32),\n",
       " array([0.5545848], dtype=float32),\n",
       " array([0.06381726], dtype=float32))"
      ]
     },
     "execution_count": 7,
     "metadata": {},
     "output_type": "execute_result"
    }
   ],
   "source": [
    "space.sample()"
   ]
  }
 ],
 "metadata": {
  "kernelspec": {
   "display_name": "Python 3",
   "language": "python",
   "name": "python3"
  },
  "language_info": {
   "codemirror_mode": {
    "name": "ipython",
    "version": 3
   },
   "file_extension": ".py",
   "mimetype": "text/x-python",
   "name": "python",
   "nbconvert_exporter": "python",
   "pygments_lexer": "ipython3",
   "version": "3.11.2"
  },
  "orig_nbformat": 4
 },
 "nbformat": 4,
 "nbformat_minor": 2
}
